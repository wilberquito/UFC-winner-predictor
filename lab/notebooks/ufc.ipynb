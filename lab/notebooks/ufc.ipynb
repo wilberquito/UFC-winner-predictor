{
 "cells": [
  {
   "cell_type": "markdown",
   "id": "c2765932-1a68-430d-a737-8ffb6f483c54",
   "metadata": {},
   "source": [
    "# UFC data analysis and exploration"
   ]
  },
  {
   "cell_type": "markdown",
   "id": "798771e2-459d-4b73-bb8b-12160b39e744",
   "metadata": {},
   "source": [
    "The goal of this project is to explore an analize the data captured from a postgres db.\n",
    "\n",
    "Then, I'll pick those features that are more likely to predict the winners of the next event, apply data analyze and feature enginner and then save them into a mongodb.\n",
    "\n",
    "Once the data is saved in the mongodb instance. I'll recover and apply some static stadistical models and visualization."
   ]
  },
  {
   "cell_type": "code",
   "execution_count": 2,
   "id": "8a830609-9e14-4a5c-90f2-0458879f8cc8",
   "metadata": {},
   "outputs": [],
   "source": [
    "import pandas as pd"
   ]
  },
  {
   "cell_type": "markdown",
   "id": "12bfb88e-f951-47fb-9f91-6af857a7f901",
   "metadata": {},
   "source": [
    "## Fetch data from Postgres"
   ]
  },
  {
   "cell_type": "code",
   "execution_count": 3,
   "id": "65c551b2-1286-42e2-9b2f-0db294dfb419",
   "metadata": {},
   "outputs": [],
   "source": [
    "master_df = pd.read_csv('../data/ufc-master.csv')\n",
    "upcoming_df = pd.read_csv('../data/upcoming-event.csv')\n",
    "master_df_columns = list(master_df.columns)\n",
    "upcoming_df_columns = list(upcoming_df.columns)"
   ]
  },
  {
   "cell_type": "markdown",
   "id": "a803e824-d13e-4ac4-8dcc-e3848b801db9",
   "metadata": {},
   "source": [
    "## Explore raw data"
   ]
  },
  {
   "cell_type": "markdown",
   "id": "9a0e3e89-57fa-4f51-bd51-3a2d4287abaa",
   "metadata": {},
   "source": [
    "checks if have the same columns"
   ]
  },
  {
   "cell_type": "code",
   "execution_count": 4,
   "id": "80f4066b-c342-446e-8c9b-3a1d4b47364d",
   "metadata": {},
   "outputs": [
    {
     "data": {
      "text/plain": [
       "True"
      ]
     },
     "execution_count": 4,
     "metadata": {},
     "output_type": "execute_result"
    }
   ],
   "source": [
    "sorted(master_df_columns) == sorted(upcoming_df_columns)"
   ]
  },
  {
   "cell_type": "markdown",
   "id": "a8ce558d-97e8-406e-8282-0b823a906d28",
   "metadata": {},
   "source": [
    "We see the shape of each dataset"
   ]
  },
  {
   "cell_type": "code",
   "execution_count": 5,
   "id": "e20eaa4a-8871-4c54-80cf-9d0e80cd14a4",
   "metadata": {},
   "outputs": [
    {
     "name": "stdout",
     "output_type": "stream",
     "text": [
      "Master df shape: (4896, 119)\n",
      "Upcoming df shape: (9, 119)\n"
     ]
    }
   ],
   "source": [
    "print('Master df shape:', master_df.shape)\n",
    "print('Upcoming df shape:', upcoming_df.shape)"
   ]
  },
  {
   "cell_type": "markdown",
   "id": "a950d2e1-def2-4f5d-b1b2-85f6e9594ada",
   "metadata": {},
   "source": [
    "I notice thanks by shape df property that the number of columns is enourmous. \n",
    "\n",
    "I'll put the hat of an expert and I'll pick those columns that I thing will help the most\n",
    "to create a model that will predict the winners of the next upcomming ufc event.\n",
    "\n",
    "Uncomment the next cell to see the different columns."
   ]
  },
  {
   "cell_type": "code",
   "execution_count": null,
   "id": "e661f76f-d3a0-4cec-bd61-5924bb5b5819",
   "metadata": {},
   "outputs": [],
   "source": [
    "# master_df_columns"
   ]
  },
  {
   "cell_type": "markdown",
   "id": "59924082-7281-4833-96ac-d7adf6728594",
   "metadata": {},
   "source": [
    "There is the column 'Winner', which is the feature I want to predict.\n",
    "\n",
    "As we can see, the master df has this information, but upcomming df does not."
   ]
  },
  {
   "cell_type": "code",
   "execution_count": 22,
   "id": "d5d90974-0de9-4897-be74-caaee5acbd40",
   "metadata": {},
   "outputs": [
    {
     "name": "stdout",
     "output_type": "stream",
     "text": [
      "Master winners\n",
      "         B_fighter            R_fighter Winner\n",
      "0    Johnny Walker        Thiago Santos    Red\n",
      "1       Niko Price        Alex Oliveira   Blue\n",
      "2  Krzysztof Jotko       Misha Cirkunov   Blue\n",
      "3     Mike Breeden  Alexander Hernandez    Red\n",
      "4     Jared Gordon          Joe Solecki   Blue\n",
      "\n",
      "Upcomming winners\n",
      "          B_fighter        R_fighter  Winner\n",
      "0  Marina Rodriguez   Mackenzie Dern     NaN\n",
      "1      Jared Gooden      Randy Brown     NaN\n",
      "2   Matheus Nicolau      Tim Elliott     NaN\n",
      "3    Mariya Agapova      Sabina Mazo     NaN\n",
      "4    Felipe Colares  Chris Gutierrez     NaN\n"
     ]
    }
   ],
   "source": [
    "columns = ['B_fighter', 'R_fighter', 'Winner']\n",
    "\n",
    "print('Master winners')\n",
    "print(master_df.loc[0:4, columns])\n",
    "print('\\nUpcomming winners')\n",
    "print(upcoming_df.loc[0:4, columns])"
   ]
  },
  {
   "cell_type": "markdown",
   "id": "d66a0c53-906f-41b8-b8b0-44ae8324fde8",
   "metadata": {},
   "source": [
    "Getting information from the different columns"
   ]
  },
  {
   "cell_type": "code",
   "execution_count": 10,
   "id": "06ffbc4a-460c-4506-8d70-2fae60cc3ddb",
   "metadata": {},
   "outputs": [
    {
     "data": {
      "text/html": [
       "<div>\n",
       "<style scoped>\n",
       "    .dataframe tbody tr th:only-of-type {\n",
       "        vertical-align: middle;\n",
       "    }\n",
       "\n",
       "    .dataframe tbody tr th {\n",
       "        vertical-align: top;\n",
       "    }\n",
       "\n",
       "    .dataframe thead th {\n",
       "        text-align: right;\n",
       "    }\n",
       "</style>\n",
       "<table border=\"1\" class=\"dataframe\">\n",
       "  <thead>\n",
       "    <tr style=\"text-align: right;\">\n",
       "      <th></th>\n",
       "      <th>R_odds</th>\n",
       "      <th>B_odds</th>\n",
       "      <th>R_ev</th>\n",
       "      <th>B_ev</th>\n",
       "      <th>no_of_rounds</th>\n",
       "      <th>B_current_lose_streak</th>\n",
       "      <th>B_current_win_streak</th>\n",
       "      <th>B_draw</th>\n",
       "      <th>B_avg_SIG_STR_landed</th>\n",
       "      <th>B_avg_SIG_STR_pct</th>\n",
       "      <th>...</th>\n",
       "      <th>B_Flyweight_rank</th>\n",
       "      <th>B_Pound-for-Pound_rank</th>\n",
       "      <th>finish_round</th>\n",
       "      <th>total_fight_time_secs</th>\n",
       "      <th>r_dec_odds</th>\n",
       "      <th>b_dec_odds</th>\n",
       "      <th>r_sub_odds</th>\n",
       "      <th>b_sub_odds</th>\n",
       "      <th>r_ko_odds</th>\n",
       "      <th>b_ko_odds</th>\n",
       "    </tr>\n",
       "  </thead>\n",
       "  <tbody>\n",
       "    <tr>\n",
       "      <th>count</th>\n",
       "      <td>4895.000000</td>\n",
       "      <td>4896.000000</td>\n",
       "      <td>4895.000000</td>\n",
       "      <td>4896.000000</td>\n",
       "      <td>4896.000000</td>\n",
       "      <td>4896.000000</td>\n",
       "      <td>4896.000000</td>\n",
       "      <td>4896.000000</td>\n",
       "      <td>3966.000000</td>\n",
       "      <td>4131.000000</td>\n",
       "      <td>...</td>\n",
       "      <td>95.000000</td>\n",
       "      <td>35.000000</td>\n",
       "      <td>4274.000000</td>\n",
       "      <td>4274.000000</td>\n",
       "      <td>4093.000000</td>\n",
       "      <td>4077.000000</td>\n",
       "      <td>3847.000000</td>\n",
       "      <td>3835.000000</td>\n",
       "      <td>3847.000000</td>\n",
       "      <td>3834.000000</td>\n",
       "    </tr>\n",
       "    <tr>\n",
       "      <th>mean</th>\n",
       "      <td>-117.640449</td>\n",
       "      <td>66.030637</td>\n",
       "      <td>94.827397</td>\n",
       "      <td>167.083323</td>\n",
       "      <td>3.181985</td>\n",
       "      <td>0.477941</td>\n",
       "      <td>0.875408</td>\n",
       "      <td>0.010621</td>\n",
       "      <td>26.308553</td>\n",
       "      <td>0.444741</td>\n",
       "      <td>...</td>\n",
       "      <td>8.473684</td>\n",
       "      <td>9.485714</td>\n",
       "      <td>2.408049</td>\n",
       "      <td>652.313758</td>\n",
       "      <td>294.064745</td>\n",
       "      <td>416.544027</td>\n",
       "      <td>843.010138</td>\n",
       "      <td>1064.543155</td>\n",
       "      <td>514.231869</td>\n",
       "      <td>647.257173</td>\n",
       "    </tr>\n",
       "    <tr>\n",
       "      <th>std</th>\n",
       "      <td>268.881452</td>\n",
       "      <td>247.803928</td>\n",
       "      <td>82.843409</td>\n",
       "      <td>136.944643</td>\n",
       "      <td>0.571515</td>\n",
       "      <td>0.769386</td>\n",
       "      <td>1.311379</td>\n",
       "      <td>0.108333</td>\n",
       "      <td>20.935885</td>\n",
       "      <td>0.121332</td>\n",
       "      <td>...</td>\n",
       "      <td>4.259763</td>\n",
       "      <td>4.300283</td>\n",
       "      <td>0.996643</td>\n",
       "      <td>357.911423</td>\n",
       "      <td>230.583958</td>\n",
       "      <td>306.571299</td>\n",
       "      <td>550.126761</td>\n",
       "      <td>627.285034</td>\n",
       "      <td>413.622768</td>\n",
       "      <td>458.846643</td>\n",
       "    </tr>\n",
       "    <tr>\n",
       "      <th>min</th>\n",
       "      <td>-1700.000000</td>\n",
       "      <td>-1200.000000</td>\n",
       "      <td>5.882353</td>\n",
       "      <td>8.333333</td>\n",
       "      <td>3.000000</td>\n",
       "      <td>0.000000</td>\n",
       "      <td>0.000000</td>\n",
       "      <td>0.000000</td>\n",
       "      <td>0.000000</td>\n",
       "      <td>0.000000</td>\n",
       "      <td>...</td>\n",
       "      <td>1.000000</td>\n",
       "      <td>2.000000</td>\n",
       "      <td>1.000000</td>\n",
       "      <td>5.000000</td>\n",
       "      <td>-440.000000</td>\n",
       "      <td>-200.000000</td>\n",
       "      <td>-370.000000</td>\n",
       "      <td>-1250.000000</td>\n",
       "      <td>-550.000000</td>\n",
       "      <td>-275.000000</td>\n",
       "    </tr>\n",
       "    <tr>\n",
       "      <th>25%</th>\n",
       "      <td>-255.000000</td>\n",
       "      <td>-145.000000</td>\n",
       "      <td>39.215686</td>\n",
       "      <td>68.965517</td>\n",
       "      <td>3.000000</td>\n",
       "      <td>0.000000</td>\n",
       "      <td>0.000000</td>\n",
       "      <td>0.000000</td>\n",
       "      <td>5.610000</td>\n",
       "      <td>0.387500</td>\n",
       "      <td>...</td>\n",
       "      <td>5.000000</td>\n",
       "      <td>5.000000</td>\n",
       "      <td>1.000000</td>\n",
       "      <td>297.000000</td>\n",
       "      <td>167.000000</td>\n",
       "      <td>225.000000</td>\n",
       "      <td>435.000000</td>\n",
       "      <td>590.000000</td>\n",
       "      <td>240.000000</td>\n",
       "      <td>325.000000</td>\n",
       "    </tr>\n",
       "    <tr>\n",
       "      <th>50%</th>\n",
       "      <td>-150.000000</td>\n",
       "      <td>130.000000</td>\n",
       "      <td>66.666667</td>\n",
       "      <td>130.000000</td>\n",
       "      <td>3.000000</td>\n",
       "      <td>0.000000</td>\n",
       "      <td>0.000000</td>\n",
       "      <td>0.000000</td>\n",
       "      <td>24.759615</td>\n",
       "      <td>0.450000</td>\n",
       "      <td>...</td>\n",
       "      <td>8.000000</td>\n",
       "      <td>10.000000</td>\n",
       "      <td>3.000000</td>\n",
       "      <td>900.000000</td>\n",
       "      <td>250.000000</td>\n",
       "      <td>349.000000</td>\n",
       "      <td>720.000000</td>\n",
       "      <td>975.000000</td>\n",
       "      <td>435.000000</td>\n",
       "      <td>548.500000</td>\n",
       "    </tr>\n",
       "    <tr>\n",
       "      <th>75%</th>\n",
       "      <td>126.500000</td>\n",
       "      <td>220.000000</td>\n",
       "      <td>126.500000</td>\n",
       "      <td>220.000000</td>\n",
       "      <td>3.000000</td>\n",
       "      <td>1.000000</td>\n",
       "      <td>1.000000</td>\n",
       "      <td>0.000000</td>\n",
       "      <td>39.075000</td>\n",
       "      <td>0.510000</td>\n",
       "      <td>...</td>\n",
       "      <td>12.000000</td>\n",
       "      <td>13.500000</td>\n",
       "      <td>3.000000</td>\n",
       "      <td>900.000000</td>\n",
       "      <td>400.000000</td>\n",
       "      <td>525.000000</td>\n",
       "      <td>1200.000000</td>\n",
       "      <td>1400.000000</td>\n",
       "      <td>700.000000</td>\n",
       "      <td>880.750000</td>\n",
       "    </tr>\n",
       "    <tr>\n",
       "      <th>max</th>\n",
       "      <td>775.000000</td>\n",
       "      <td>1300.000000</td>\n",
       "      <td>775.000000</td>\n",
       "      <td>1300.000000</td>\n",
       "      <td>5.000000</td>\n",
       "      <td>6.000000</td>\n",
       "      <td>12.000000</td>\n",
       "      <td>2.000000</td>\n",
       "      <td>154.000000</td>\n",
       "      <td>1.000000</td>\n",
       "      <td>...</td>\n",
       "      <td>15.000000</td>\n",
       "      <td>15.000000</td>\n",
       "      <td>5.000000</td>\n",
       "      <td>1500.000000</td>\n",
       "      <td>2200.000000</td>\n",
       "      <td>2600.000000</td>\n",
       "      <td>4665.000000</td>\n",
       "      <td>4785.000000</td>\n",
       "      <td>2675.000000</td>\n",
       "      <td>3200.000000</td>\n",
       "    </tr>\n",
       "  </tbody>\n",
       "</table>\n",
       "<p>8 rows × 104 columns</p>\n",
       "</div>"
      ],
      "text/plain": [
       "            R_odds       B_odds         R_ev         B_ev  no_of_rounds  \\\n",
       "count  4895.000000  4896.000000  4895.000000  4896.000000   4896.000000   \n",
       "mean   -117.640449    66.030637    94.827397   167.083323      3.181985   \n",
       "std     268.881452   247.803928    82.843409   136.944643      0.571515   \n",
       "min   -1700.000000 -1200.000000     5.882353     8.333333      3.000000   \n",
       "25%    -255.000000  -145.000000    39.215686    68.965517      3.000000   \n",
       "50%    -150.000000   130.000000    66.666667   130.000000      3.000000   \n",
       "75%     126.500000   220.000000   126.500000   220.000000      3.000000   \n",
       "max     775.000000  1300.000000   775.000000  1300.000000      5.000000   \n",
       "\n",
       "       B_current_lose_streak  B_current_win_streak       B_draw  \\\n",
       "count            4896.000000           4896.000000  4896.000000   \n",
       "mean                0.477941              0.875408     0.010621   \n",
       "std                 0.769386              1.311379     0.108333   \n",
       "min                 0.000000              0.000000     0.000000   \n",
       "25%                 0.000000              0.000000     0.000000   \n",
       "50%                 0.000000              0.000000     0.000000   \n",
       "75%                 1.000000              1.000000     0.000000   \n",
       "max                 6.000000             12.000000     2.000000   \n",
       "\n",
       "       B_avg_SIG_STR_landed  B_avg_SIG_STR_pct  ...  B_Flyweight_rank  \\\n",
       "count           3966.000000        4131.000000  ...         95.000000   \n",
       "mean              26.308553           0.444741  ...          8.473684   \n",
       "std               20.935885           0.121332  ...          4.259763   \n",
       "min                0.000000           0.000000  ...          1.000000   \n",
       "25%                5.610000           0.387500  ...          5.000000   \n",
       "50%               24.759615           0.450000  ...          8.000000   \n",
       "75%               39.075000           0.510000  ...         12.000000   \n",
       "max              154.000000           1.000000  ...         15.000000   \n",
       "\n",
       "       B_Pound-for-Pound_rank  finish_round  total_fight_time_secs  \\\n",
       "count               35.000000   4274.000000            4274.000000   \n",
       "mean                 9.485714      2.408049             652.313758   \n",
       "std                  4.300283      0.996643             357.911423   \n",
       "min                  2.000000      1.000000               5.000000   \n",
       "25%                  5.000000      1.000000             297.000000   \n",
       "50%                 10.000000      3.000000             900.000000   \n",
       "75%                 13.500000      3.000000             900.000000   \n",
       "max                 15.000000      5.000000            1500.000000   \n",
       "\n",
       "        r_dec_odds   b_dec_odds   r_sub_odds   b_sub_odds    r_ko_odds  \\\n",
       "count  4093.000000  4077.000000  3847.000000  3835.000000  3847.000000   \n",
       "mean    294.064745   416.544027   843.010138  1064.543155   514.231869   \n",
       "std     230.583958   306.571299   550.126761   627.285034   413.622768   \n",
       "min    -440.000000  -200.000000  -370.000000 -1250.000000  -550.000000   \n",
       "25%     167.000000   225.000000   435.000000   590.000000   240.000000   \n",
       "50%     250.000000   349.000000   720.000000   975.000000   435.000000   \n",
       "75%     400.000000   525.000000  1200.000000  1400.000000   700.000000   \n",
       "max    2200.000000  2600.000000  4665.000000  4785.000000  2675.000000   \n",
       "\n",
       "         b_ko_odds  \n",
       "count  3834.000000  \n",
       "mean    647.257173  \n",
       "std     458.846643  \n",
       "min    -275.000000  \n",
       "25%     325.000000  \n",
       "50%     548.500000  \n",
       "75%     880.750000  \n",
       "max    3200.000000  \n",
       "\n",
       "[8 rows x 104 columns]"
      ]
     },
     "execution_count": 10,
     "metadata": {},
     "output_type": "execute_result"
    }
   ],
   "source": [
    "master_df.describe()"
   ]
  },
  {
   "cell_type": "code",
   "execution_count": 23,
   "id": "56e6a1a8-d601-47bb-996d-438e853390a8",
   "metadata": {},
   "outputs": [
    {
     "data": {
      "text/plain": [
       "R_fighter      object\n",
       "B_fighter      object\n",
       "R_odds        float64\n",
       "B_odds          int64\n",
       "R_ev          float64\n",
       "               ...   \n",
       "b_dec_odds    float64\n",
       "r_sub_odds    float64\n",
       "b_sub_odds    float64\n",
       "r_ko_odds     float64\n",
       "b_ko_odds     float64\n",
       "Length: 119, dtype: object"
      ]
     },
     "execution_count": 23,
     "metadata": {},
     "output_type": "execute_result"
    }
   ],
   "source": [
    "master_df.dtypes"
   ]
  },
  {
   "cell_type": "markdown",
   "id": "071d9f0d-4d03-47cf-a7b1-b3ba75596c60",
   "metadata": {},
   "source": [
    "Has we can see most features are numeric, and some of them that are not numeric, I can encode or categorize them."
   ]
  },
  {
   "cell_type": "markdown",
   "id": "670fc7cc-a688-43f0-ab36-68c614917bc8",
   "metadata": {},
   "source": [
    "## Select the most interesting features"
   ]
  },
  {
   "cell_type": "markdown",
   "id": "648781ed-be6c-4428-ad5c-27f7b740664e",
   "metadata": {},
   "source": [
    "## Clean data"
   ]
  },
  {
   "cell_type": "markdown",
   "id": "6d4fb405-060b-48ae-8f58-572848578de8",
   "metadata": {},
   "source": [
    "## Add features"
   ]
  },
  {
   "cell_type": "markdown",
   "id": "a05dcfe2-cbd3-41fb-998c-6c0714bbd4b9",
   "metadata": {},
   "source": [
    "## Save the data into mongo instance"
   ]
  },
  {
   "cell_type": "markdown",
   "id": "36e608fb-bac8-4e78-a604-e00a56ffe55f",
   "metadata": {},
   "source": [
    "## Recover data from mongo instance"
   ]
  },
  {
   "cell_type": "markdown",
   "id": "f9947e14-71de-4f57-af32-4b1f40a2825d",
   "metadata": {},
   "source": [
    "## Apply statical stadistics"
   ]
  },
  {
   "cell_type": "markdown",
   "id": "cc6f7ea4-56af-4ee3-8f3b-89e5f98eac35",
   "metadata": {},
   "source": [
    "## Data visualization"
   ]
  }
 ],
 "metadata": {
  "kernelspec": {
   "display_name": "Python 3 (ipykernel)",
   "language": "python",
   "name": "python3"
  },
  "language_info": {
   "codemirror_mode": {
    "name": "ipython",
    "version": 3
   },
   "file_extension": ".py",
   "mimetype": "text/x-python",
   "name": "python",
   "nbconvert_exporter": "python",
   "pygments_lexer": "ipython3",
   "version": "3.10.6"
  }
 },
 "nbformat": 4,
 "nbformat_minor": 5
}
