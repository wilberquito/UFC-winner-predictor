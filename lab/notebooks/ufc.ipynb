{
 "cells": [
  {
   "cell_type": "markdown",
   "id": "798771e2-459d-4b73-bb8b-12160b39e744",
   "metadata": {},
   "source": [
    "The goal of this project is to explore an analize the data captured from a postgres db.\n",
    "\n",
    "Then, I'll pick those feautres that are more likely to predict the winners of the next event, apply data analyze and feature enginner and then save them into a mongodb.\n",
    "\n",
    "Once the data is saved in the mongodb instance. I'll recover and apply some static stadistical models and visualization."
   ]
  },
  {
   "cell_type": "code",
   "execution_count": 3,
   "id": "8a830609-9e14-4a5c-90f2-0458879f8cc8",
   "metadata": {},
   "outputs": [],
   "source": [
    "import pandas as pd"
   ]
  },
  {
   "cell_type": "markdown",
   "id": "12bfb88e-f951-47fb-9f91-6af857a7f901",
   "metadata": {},
   "source": [
    "## Fetch data from Postgres"
   ]
  },
  {
   "cell_type": "code",
   "execution_count": null,
   "id": "65c551b2-1286-42e2-9b2f-0db294dfb419",
   "metadata": {},
   "outputs": [],
   "source": [
    "master_df = pd.read_csv('../data/ufc-master.csv')\n",
    "upcoming_df = pd.read_csv('../data/upcoming-event.csv')\n",
    "master_df_columns = list(master_df.columns)\n",
    "upcoming_df_columns = list(upcoming_df.columns)"
   ]
  },
  {
   "cell_type": "markdown",
   "id": "a803e824-d13e-4ac4-8dcc-e3848b801db9",
   "metadata": {},
   "source": [
    "## Explore raw data"
   ]
  },
  {
   "cell_type": "markdown",
   "id": "9a0e3e89-57fa-4f51-bd51-3a2d4287abaa",
   "metadata": {},
   "source": [
    "checks if have the same columns"
   ]
  },
  {
   "cell_type": "code",
   "execution_count": 13,
   "id": "80f4066b-c342-446e-8c9b-3a1d4b47364d",
   "metadata": {},
   "outputs": [
    {
     "data": {
      "text/plain": [
       "True"
      ]
     },
     "execution_count": 13,
     "metadata": {},
     "output_type": "execute_result"
    }
   ],
   "source": [
    "sorted(master_df_columns) == sorted(upcoming_df_columns)"
   ]
  },
  {
   "cell_type": "markdown",
   "id": "a8ce558d-97e8-406e-8282-0b823a906d28",
   "metadata": {},
   "source": [
    "We see the shape of each dataset"
   ]
  },
  {
   "cell_type": "code",
   "execution_count": 18,
   "id": "e20eaa4a-8871-4c54-80cf-9d0e80cd14a4",
   "metadata": {},
   "outputs": [
    {
     "name": "stdout",
     "output_type": "stream",
     "text": [
      "Master df shape: (4896, 119)\n",
      "Upcoming df shape: (9, 119)\n"
     ]
    }
   ],
   "source": [
    "print('Master df shape:', master_df.shape)\n",
    "print('Upcoming df shape:', upcoming_df.shape)"
   ]
  },
  {
   "cell_type": "markdown",
   "id": "a950d2e1-def2-4f5d-b1b2-85f6e9594ada",
   "metadata": {},
   "source": [
    "I notice thanks by shape df property that the number of columns is enourmous. \n",
    "\n",
    "I'll put the hat of an expert and I'll pick those columns that will help the most\n",
    "to create a model that will predict the winners of the next upcomming ufc event.\n",
    "\n",
    "If you want to see the differents columns, uncomment the next cell and execute it."
   ]
  },
  {
   "cell_type": "code",
   "execution_count": null,
   "id": "e661f76f-d3a0-4cec-bd61-5924bb5b5819",
   "metadata": {},
   "outputs": [],
   "source": [
    "# master_df_columns"
   ]
  },
  {
   "cell_type": "markdown",
   "id": "670fc7cc-a688-43f0-ab36-68c614917bc8",
   "metadata": {},
   "source": [
    "## Select the most interesting features"
   ]
  },
  {
   "cell_type": "markdown",
   "id": "648781ed-be6c-4428-ad5c-27f7b740664e",
   "metadata": {},
   "source": [
    "## Clean data"
   ]
  },
  {
   "cell_type": "markdown",
   "id": "6d4fb405-060b-48ae-8f58-572848578de8",
   "metadata": {},
   "source": [
    "## Add features"
   ]
  },
  {
   "cell_type": "markdown",
   "id": "a05dcfe2-cbd3-41fb-998c-6c0714bbd4b9",
   "metadata": {},
   "source": [
    "## Save the data into mongo instance"
   ]
  },
  {
   "cell_type": "markdown",
   "id": "36e608fb-bac8-4e78-a604-e00a56ffe55f",
   "metadata": {},
   "source": [
    "## Recover data from mongo instance"
   ]
  },
  {
   "cell_type": "markdown",
   "id": "f9947e14-71de-4f57-af32-4b1f40a2825d",
   "metadata": {},
   "source": [
    "## Apply statical stadistics"
   ]
  },
  {
   "cell_type": "markdown",
   "id": "cc6f7ea4-56af-4ee3-8f3b-89e5f98eac35",
   "metadata": {},
   "source": [
    "## Data visualization"
   ]
  }
 ],
 "metadata": {
  "kernelspec": {
   "display_name": "Python 3 (ipykernel)",
   "language": "python",
   "name": "python3"
  },
  "language_info": {
   "codemirror_mode": {
    "name": "ipython",
    "version": 3
   },
   "file_extension": ".py",
   "mimetype": "text/x-python",
   "name": "python",
   "nbconvert_exporter": "python",
   "pygments_lexer": "ipython3",
   "version": "3.10.6"
  }
 },
 "nbformat": 4,
 "nbformat_minor": 5
}
