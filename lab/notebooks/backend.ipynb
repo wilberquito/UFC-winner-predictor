{
 "cells": [
  {
   "cell_type": "code",
   "execution_count": 1,
   "id": "5c2501ab-be92-4e3d-9ea2-c3d9518fa495",
   "metadata": {},
   "outputs": [],
   "source": [
    "import pandas as pd"
   ]
  },
  {
   "cell_type": "code",
   "execution_count": 2,
   "id": "67fd9d65-5136-4409-8dd4-1a5ca4859374",
   "metadata": {},
   "outputs": [],
   "source": [
    "%run '../modules/postgresql.py'\n",
    "%run '../modules/mongodb.py'"
   ]
  },
  {
   "cell_type": "code",
   "execution_count": 3,
   "id": "c3ef8712-6874-43b1-a66a-abd964f05f3a",
   "metadata": {},
   "outputs": [],
   "source": [
    "postgressql = PostgresSql()\n",
    "mongodb = MongoDB()"
   ]
  },
  {
   "cell_type": "code",
   "execution_count": 4,
   "id": "4503a994-f773-479a-aa41-d3fd40562e7d",
   "metadata": {},
   "outputs": [],
   "source": [
    "query = \"\"\"\n",
    "    select * \n",
    "    from ufc_master\n",
    "\"\"\"\n",
    "df = postgressql.exec(query, to_df = True)"
   ]
  },
  {
   "cell_type": "code",
   "execution_count": 5,
   "id": "49a5db24-2819-40fd-9bb5-f136af07bc34",
   "metadata": {},
   "outputs": [],
   "source": [
    "renames = {\n",
    "    'b_pound-for-pound_rank': 'b_pound_for_pound_rank',\n",
    "    'b_light heavyweight_rank': 'b_light_heavyweight_rank',\n",
    "     'r_pound-for-pound_rank': 'r_pound_for_pound_rank',\n",
    "     \"b_women's flyweight_rank\": 'b_women_flyweight_rank',\n",
    "     \"b_women's featherweight_rank\": 'b_women_featherweight_rank',\n",
    "     \"b_women's strawweight_rank\": 'b_women_strawweight_rank',\n",
    "     \"b_women's bantamweight_rank\": 'b_women_bantamweight_rank',\n",
    "    'r_light heavyweight_rank': 'r_light_heavyweight_rank',\n",
    "     \"r_women's flyweight_rank\": 'r_women_flyweight_rank',\n",
    "     \"r_women's featherweight_rank\": 'r_women_featherweight_rank',\n",
    "     \"r_women's strawweight_rank\": 'r_women_strawweight_rank',\n",
    "     \"r_women's bantamweight_rank\": 'r_women_bantamweight_rank',\n",
    "}\n",
    "\n",
    "columns = list(map(lambda x : x.lower(), list(df.columns)))\n",
    "\n",
    "df.columns = columns\n",
    "df.rename(inplace = True, columns = renames)"
   ]
  },
  {
   "cell_type": "code",
   "execution_count": 6,
   "id": "158612e2-120b-4c55-91cb-1e6bca31fab2",
   "metadata": {},
   "outputs": [],
   "source": [
    "# df.to_csv('../data/backend.csv', index = False)"
   ]
  },
  {
   "cell_type": "code",
   "execution_count": 8,
   "id": "8d666d13-e714-4e86-acbc-911767de8e1f",
   "metadata": {},
   "outputs": [],
   "source": [
    "mongoufc = mongodb.client()['ufc']\n",
    "mongoufc.backend.drop()\n",
    "mongodb.send(df, mongoufc.backend)"
   ]
  }
 ],
 "metadata": {
  "kernelspec": {
   "display_name": "Python 3 (ipykernel)",
   "language": "python",
   "name": "python3"
  },
  "language_info": {
   "codemirror_mode": {
    "name": "ipython",
    "version": 3
   },
   "file_extension": ".py",
   "mimetype": "text/x-python",
   "name": "python",
   "nbconvert_exporter": "python",
   "pygments_lexer": "ipython3",
   "version": "3.10.6"
  }
 },
 "nbformat": 4,
 "nbformat_minor": 5
}
