{
 "cells": [
  {
   "cell_type": "code",
   "execution_count": 1,
   "id": "5c2501ab-be92-4e3d-9ea2-c3d9518fa495",
   "metadata": {},
   "outputs": [],
   "source": [
    "import pandas as pd\n",
    "import psycopg2"
   ]
  },
  {
   "cell_type": "code",
   "execution_count": 2,
   "id": "4232722e-04da-4530-aaf5-1fc31e3fdba0",
   "metadata": {},
   "outputs": [],
   "source": [
    "class PostgresSql:\n",
    "    \n",
    "  def __init__(self):\n",
    "    conn = psycopg2.connect(\n",
    "        host=\"postgresdns\",\n",
    "        database=\"postgres\",\n",
    "        user=\"postgres\",\n",
    "        password=\"postgres\")\n",
    "    cursor = conn.cursor()\n",
    "    self.cursor = cursor\n",
    "\n",
    "  def exec(self, query, cursor=None, to_df=False):\n",
    "    c = self.cursor if not cursor else cursor\n",
    "    c.execute(query)\n",
    "    chunk = c.fetchall()\n",
    "    if to_df:\n",
    "        names = list(map(lambda x : x[0], c.description))\n",
    "        return pd.DataFrame(chunk, columns=names)\n",
    "    \n",
    "    return chunk\n"
   ]
  },
  {
   "cell_type": "code",
   "execution_count": 3,
   "id": "4503a994-f773-479a-aa41-d3fd40562e7d",
   "metadata": {},
   "outputs": [],
   "source": [
    "postgressql = PostgresSql()\n",
    "\n",
    "query = \"\"\"\n",
    "    select * \n",
    "    from ufc_master\n",
    "\"\"\"\n",
    "\n",
    "df = postgressql.exec( query, to_df = True )"
   ]
  },
  {
   "cell_type": "code",
   "execution_count": 5,
   "id": "49a5db24-2819-40fd-9bb5-f136af07bc34",
   "metadata": {},
   "outputs": [],
   "source": [
    "renames = {\n",
    "    'b_pound-for-pound_rank': 'b_pound_for_pound_rank',\n",
    "    'b_light heavyweight_rank': 'b_light_heavyweight_rank',\n",
    "     'r_pound-for-pound_rank': 'r_pound_for_pound_rank',\n",
    "     \"b_women's flyweight_rank\": 'b_women_flyweight_rank',\n",
    "     \"b_women's featherweight_rank\": 'b_women_featherweight_rank',\n",
    "     \"b_women's strawweight_rank\": 'b_women_strawweight_rank',\n",
    "     \"b_women's bantamweight_rank\": 'b_women_bantamweight_rank',\n",
    "    'r_light heavyweight_rank': 'r_light_heavyweight_rank',\n",
    "     \"r_women's flyweight_rank\": 'r_women_flyweight_rank',\n",
    "     \"r_women's featherweight_rank\": 'r_women_featherweight_rank',\n",
    "     \"r_women's strawweight_rank\": 'r_women_strawweight_rank',\n",
    "     \"r_women's bantamweight_rank\": 'r_women_bantamweight_rank',\n",
    "}\n",
    "\n",
    "columns = list(map(lambda x : x.lower(), list(df.columns)))\n",
    "\n",
    "df.columns = columns\n",
    "df.rename(inplace = True, columns = renames)"
   ]
  },
  {
   "cell_type": "code",
   "execution_count": 6,
   "id": "158612e2-120b-4c55-91cb-1e6bca31fab2",
   "metadata": {},
   "outputs": [],
   "source": [
    "df.to_csv('../data/backend.csv', index = False)"
   ]
  }
 ],
 "metadata": {
  "kernelspec": {
   "display_name": "Python 3 (ipykernel)",
   "language": "python",
   "name": "python3"
  },
  "language_info": {
   "codemirror_mode": {
    "name": "ipython",
    "version": 3
   },
   "file_extension": ".py",
   "mimetype": "text/x-python",
   "name": "python",
   "nbconvert_exporter": "python",
   "pygments_lexer": "ipython3",
   "version": "3.10.6"
  }
 },
 "nbformat": 4,
 "nbformat_minor": 5
}
